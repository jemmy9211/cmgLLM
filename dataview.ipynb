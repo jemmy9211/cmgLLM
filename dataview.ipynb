{
 "cells": [
  {
   "cell_type": "code",
   "execution_count": 4,
   "metadata": {},
   "outputs": [],
   "source": [
    "import json\n",
    "import os"
   ]
  },
  {
   "cell_type": "code",
   "execution_count": 5,
   "metadata": {},
   "outputs": [],
   "source": [
    "# Load the data\n",
    "with open(\"msgtextV12.json\") as f1:\n",
    "    msgdata = json.load(f1)\n",
    "with open(\"difftextV12.json\") as f2:\n",
    "    diffdata = json.load(f2)\n",
    "\n",
    "# Get the last 7661 items from the dataset\n",
    "msgdata = msgdata[-7661:]\n",
    "diffdata = diffdata[-7661:]"
   ]
  },
  {
   "cell_type": "code",
   "execution_count": 20,
   "metadata": {},
   "outputs": [
    {
     "name": "stdout",
     "output_type": "stream",
     "text": [
      "diff --git a/graylog2-server/src/main/java/org/graylog2/database/ValidationException.java b/graylog2-server/src/main/java/org/graylog2/database/ValidationException.java\n",
      "index ab4c931..62fdbef 100644\n",
      "--- a/graylog2-server/src/main/java/org/graylog2/database/ValidationException.java\n",
      "+++ b/graylog2-server/src/main/java/org/graylog2/database/ValidationException.java\n",
      "@@ -33,10 +33,14 @@ public class ValidationException extends Exception {\n",
      "         this.errors = errors;\n",
      "     }\n",
      " \n",
      "-    public ValidationException(final String s) {\n",
      "+    public ValidationException(final String message) {\n",
      "+        this(\"_\", message);\n",
      "+    }\n",
      "+\n",
      "+    public ValidationException(final String field, final String message) {\n",
      "         this.errors = new HashMap<>();\n",
      "-        this.errors.put(\"_\", new ArrayList<ValidationResult>() {{\n",
      "-            add(new ValidationResult.ValidationFailed(s));\n",
      "+        this.errors.put(field, new ArrayList<ValidationResult>() {{\n",
      "+            add(new ValidationResult.ValidationFailed(message));\n",
      "         }});\n",
      "     }\n",
      " \n",
      "\n",
      "Add another constructor to pass the field name as well.\n"
     ]
    }
   ],
   "source": [
    "print(diffdata[1111])\n",
    "print(msgdata[1111])"
   ]
  }
 ],
 "metadata": {
  "kernelspec": {
   "display_name": "cmg",
   "language": "python",
   "name": "python3"
  },
  "language_info": {
   "codemirror_mode": {
    "name": "ipython",
    "version": 3
   },
   "file_extension": ".py",
   "mimetype": "text/x-python",
   "name": "python",
   "nbconvert_exporter": "python",
   "pygments_lexer": "ipython3",
   "version": "3.12.7"
  }
 },
 "nbformat": 4,
 "nbformat_minor": 2
}
